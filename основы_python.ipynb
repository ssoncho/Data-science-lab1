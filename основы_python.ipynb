{
 "cells": [
  {
   "cell_type": "markdown",
   "metadata": {
    "id": "M-DGa20PaHnu"
   },
   "source": [
    "#Задача 1\n",
    "Написать функцию на вход которой подается строка, состоящая из латинских букв.\n",
    "Функция должна вернуть количество гласных букв (a, e, i, o, u) в этой строке. Написать тесты для кода"
   ]
  },
  {
   "cell_type": "code",
   "execution_count": 2,
   "metadata": {
    "id": "XvX8X_JJ6PCb"
   },
   "outputs": [
    {
     "name": "stdout",
     "output_type": "stream",
     "text": [
      "True\n",
      "True\n",
      "True\n",
      "True\n",
      "True\n"
     ]
    }
   ],
   "source": [
    "def get_vowels_count(string):\n",
    "    vowels = ['a', 'e', 'i', 'o', 'u', 'y']\n",
    "    vowels_count = 0\n",
    "    if isinstance(string, str):\n",
    "        string = string.lower()\n",
    "        for symbol in string:\n",
    "            vowels_count += symbol in vowels\n",
    "    return vowels_count\n",
    "\n",
    "def test_task_1(object, required_count):\n",
    "    vowels_count = get_vowels_count(object)\n",
    "    return vowels_count == required_count\n",
    "\n",
    "def test_no_vowels():\n",
    "    return test_task_1('bcdfg', 0)\n",
    "\n",
    "def test_all_vowels():\n",
    "    return test_task_1('aeiouy', 6)\n",
    "\n",
    "def test_vowels_exists():\n",
    "    return test_task_1('ybcdef', 2)\n",
    "\n",
    "def test_not_string():\n",
    "    return test_task_1(12345, 0)\n",
    "\n",
    "def test_capitalized_string():\n",
    "    return test_task_1('AEIOU', 5)\n",
    "\n",
    "print(test_no_vowels())\n",
    "print(test_all_vowels())\n",
    "print(test_vowels_exists())\n",
    "print(test_not_string())\n",
    "print(test_capitalized_string())"
   ]
  },
  {
   "cell_type": "markdown",
   "metadata": {
    "id": "t2ClV_Y0bbr6"
   },
   "source": [
    "# Задача 2\n",
    "Написать функцию на вход, которой подается строка. Функция должна вернуть true, если\n",
    "каждый символ в строке встречается только 1 раз, иначе должна вернуть false. Написать тесты для кода"
   ]
  },
  {
   "cell_type": "code",
   "execution_count": 3,
   "metadata": {
    "id": "FppbECao6VIz"
   },
   "outputs": [
    {
     "name": "stdout",
     "output_type": "stream",
     "text": [
      "True\n",
      "True\n",
      "True\n"
     ]
    }
   ],
   "source": [
    "def is_every_symbol_single(string):\n",
    "    if not isinstance(string, str):\n",
    "        return False\n",
    "    symbols_in_string = {}\n",
    "    for symbol in string:\n",
    "        if symbol in symbols_in_string:\n",
    "            return False\n",
    "        symbols_in_string[symbol] = 1\n",
    "    return True\n",
    "\n",
    "def test_task_2(object, required_bool):\n",
    "    return required_bool == is_every_symbol_single(object)\n",
    "\n",
    "def test_not_string_2():\n",
    "    return test_task_2(12345, False)\n",
    "\n",
    "def test_every_symbol_is_single():\n",
    "    return test_task_2('abcdef', True)\n",
    "\n",
    "def test_some_symbols_arent_single():\n",
    "    return test_task_2('aaaaaabbb', False)\n",
    "\n",
    "print(test_not_string_2())\n",
    "print(test_every_symbol_is_single())\n",
    "print(test_some_symbols_arent_single())"
   ]
  },
  {
   "cell_type": "markdown",
   "metadata": {
    "id": "udRiIK1cdt6E"
   },
   "source": [
    "# Задача 3\n",
    "Написать функцию, которая принимает положительное число и возвращает количество\n",
    "бит равных 1 в этом числе. Написать тесты для кода"
   ]
  },
  {
   "cell_type": "code",
   "execution_count": 4,
   "metadata": {
    "id": "6tkfDJRz6dp_"
   },
   "outputs": [
    {
     "name": "stdout",
     "output_type": "stream",
     "text": [
      "True\n",
      "True\n",
      "True\n"
     ]
    }
   ],
   "source": [
    "def get_bits_count(number):\n",
    "    bits_count = 0\n",
    "    while number != 0:\n",
    "        bits_count += number % 2 == 1\n",
    "        number //= 2\n",
    "    return bits_count\n",
    "\n",
    "def test_task_3(object, required_count):\n",
    "    return required_count == get_bits_count(object)\n",
    "\n",
    "def test_55():\n",
    "    return test_task_3(55, 5)\n",
    "\n",
    "def test_0():\n",
    "    return test_task_3(0, 0)\n",
    "\n",
    "def test_1823():\n",
    "    return test_task_3(1823, 8)\n",
    "print(test_55())\n",
    "print(test_0())\n",
    "print(test_1823())"
   ]
  },
  {
   "cell_type": "markdown",
   "metadata": {
    "id": "26dDUz-Ae17N"
   },
   "source": [
    "# Задача 4\n",
    "Написать функцию, которая принимает положительное число. Функция должна вернуть то,\n",
    "сколько раз необходимо перемножать цифры числа или результат перемножения, чтобы\n",
    "получилось число состоящее из одной цифры.\n",
    "Например, для входного числа:\n",
    "· 39 функция должна вернуть 3, так как 3*9=27 => 2*7=14 => 1*4=4\n",
    "· 4 функция должна вернуть 0, так как число уже состоит из одной цифры\n",
    "· 999 функция должна вернуть 4, так как 9*9*9=729 => 7*2*9=126 => 1*2*6=12 =>\n",
    "1*2=2. Написать тесты для кода"
   ]
  },
  {
   "cell_type": "code",
   "execution_count": 5,
   "metadata": {
    "id": "BH1A_Mgi6i4G"
   },
   "outputs": [
    {
     "name": "stdout",
     "output_type": "stream",
     "text": [
      "True\n",
      "True\n",
      "True\n"
     ]
    }
   ],
   "source": [
    "def get_multiplication_count(number):\n",
    "    multiplication_count = 0\n",
    "    while number % 100 > 9:\n",
    "        number = multiplicate_digits(number)\n",
    "        multiplication_count += 1\n",
    "    return multiplication_count\n",
    "\n",
    "def multiplicate_digits(number):\n",
    "    result = 1\n",
    "    while number != 0:\n",
    "        result *= number % 10\n",
    "        number //= 10\n",
    "    return result\n",
    "\n",
    "def test_task_4(number, required_count):\n",
    "    return required_count == get_multiplication_count(number)\n",
    "\n",
    "def test_3_times():\n",
    "    return test_task_4(39, 3)\n",
    "\n",
    "def test_0_times():\n",
    "    return test_task_4(4, 0)\n",
    "\n",
    "def test_4_times():\n",
    "    return test_task_4(999, 4)\n",
    "\n",
    "print(test_3_times())\n",
    "print(test_0_times())\n",
    "print(test_4_times())"
   ]
  },
  {
   "cell_type": "markdown",
   "metadata": {
    "id": "0nS-kIa8g8vd"
   },
   "source": [
    "# Задача 5\n",
    "Написать функцию, которая принимает два целочисленных вектора одинаковой длины и\n",
    "возвращает среднеквадратическое отклонение двух векторов. Написать тесты для кода"
   ]
  },
  {
   "cell_type": "code",
   "execution_count": 6,
   "metadata": {
    "id": "8iphx4LM6xbx"
   },
   "outputs": [
    {
     "name": "stdout",
     "output_type": "stream",
     "text": [
      "True\n",
      "True\n"
     ]
    }
   ],
   "source": [
    "def mse(observed, predicted):\n",
    "    deviations_squares_sum = 0\n",
    "    length = len(observed)\n",
    "    for i in range(0, length):\n",
    "        deviations_squares_sum += (observed[i] - predicted[i]) ** 2\n",
    "    return deviations_squares_sum / length\n",
    "\n",
    "def test_task_5(observed, predicted, required_mse):\n",
    "    return required_mse == mse(observed, predicted)\n",
    "\n",
    "def test_length_5():\n",
    "    return test_task_5([11,20,19,17,10], [12,18,19.5,18,9], 1.45)\n",
    "\n",
    "def test_mse_0():\n",
    "    return test_task_5([2, 3, 4], [2, 3, 4], 0)\n",
    "\n",
    "print(test_length_5())\n",
    "print(test_mse_0())"
   ]
  },
  {
   "cell_type": "markdown",
   "metadata": {
    "id": "vpIPKL439zkw"
   },
   "source": [
    "# Задача 6\n",
    "Написать функцию, принимающая целое положительное число. Функция должна вернуть\n",
    "строку вида “(n1**p1)(n2**p2)…(nk**pk)” представляющая разложение числа на простые\n",
    "множители (если pi == 1, то выводить только ni).\n",
    "Например, для числа 86240 функция должна вернуть “(2**5)(5)(7**2)(11)”. Написать тесты для кода"
   ]
  },
  {
   "cell_type": "code",
   "execution_count": 7,
   "metadata": {
    "id": "pFebmcZk94Jw"
   },
   "outputs": [
    {
     "name": "stdout",
     "output_type": "stream",
     "text": [
      "True\n",
      "True\n",
      "True\n"
     ]
    }
   ],
   "source": [
    "from math import sqrt\n",
    "\n",
    "def get_decomposition_string(number):\n",
    "    string = \"\"\n",
    "    divider = 2\n",
    "    while divider ** 2 <= number:\n",
    "        division_count = 0\n",
    "        while number % divider == 0:\n",
    "            division_count += 1\n",
    "            number //= divider\n",
    "        \n",
    "        if division_count == 1:\n",
    "            string += \"(\" + str(divider) + \")\"\n",
    "        elif division_count != 0:\n",
    "            string += \"(\" + str(divider) + \"**\" + str(division_count) + \")\"\n",
    "\n",
    "        divider += 1\n",
    "\n",
    "    if number != 1:\n",
    "        string += \"(\" + str(number) + \")\"\n",
    "\n",
    "    return string\n",
    "\n",
    "def test_task_6(number, string):\n",
    "    return string == get_decomposition_string(number)\n",
    "\n",
    "def test_several_numbers_86240():\n",
    "    return test_task_6(86240, \"(2**5)(5)(7**2)(11)\")\n",
    "\n",
    "def test_several_numbers_172398392():\n",
    "    return test_task_6(172398392, \"(2**3)(37)(582427)\")\n",
    "\n",
    "def test_one_number():\n",
    "    return test_task_6(11, \"(11)\")\n",
    "\n",
    "print(test_several_numbers_86240())\n",
    "print(test_several_numbers_172398392())\n",
    "print(test_one_number())"
   ]
  },
  {
   "cell_type": "markdown",
   "metadata": {
    "id": "ps2s0BudX7A2"
   },
   "source": [
    "# Задача 7\n",
    "Написать функцию, принимающая целое число n, задающее количество кубиков. Функция\n",
    "должна определить, можно ли из данного кол-ва кубиков построить пирамиду, то есть\n",
    "можно ли представить число n как 1^2+2^2+3^2+…+k^2. Если можно, то функция должна\n",
    "вернуть k, иначе строку “It is impossible”. Написать тесты для кода"
   ]
  },
  {
   "cell_type": "code",
   "execution_count": 8,
   "metadata": {
    "id": "3YPjEXxhX_YT"
   },
   "outputs": [
    {
     "name": "stdout",
     "output_type": "stream",
     "text": [
      "True\n",
      "True\n"
     ]
    }
   ],
   "source": [
    "STRING_ANSWER = \"It's impossible\"\n",
    "\n",
    "def pyramid(number):\n",
    "    progression_number = 1\n",
    "    sum = 0\n",
    "    while sum < number:\n",
    "        sum += progression_number ** 2\n",
    "        if sum == number:\n",
    "            return progression_number\n",
    "        progression_number += 1\n",
    "    return STRING_ANSWER\n",
    "\n",
    "def test_task_7(number, answer):\n",
    "    return answer == pyramid(number)\n",
    "\n",
    "def test_impossible():\n",
    "    return test_task_7(11, STRING_ANSWER)\n",
    "\n",
    "def test_possible():\n",
    "    return test_task_7(506, 11)\n",
    "\n",
    "print(test_impossible())\n",
    "print(test_possible())"
   ]
  },
  {
   "cell_type": "markdown",
   "metadata": {
    "id": "KeKgmIdAQMEJ"
   },
   "source": [
    "# Задача 8\n",
    "Функция принимает на вход положительное число и определяет является ли оно сбалансированным, т.е. сумма цифр до средних равна сумме цифр после. Средними в случае нечетного числа цифр считать одну цифру, в случае четного - две средних. Написать тесты для кода"
   ]
  },
  {
   "cell_type": "code",
   "execution_count": 9,
   "metadata": {
    "id": "gMAAqtqlQrZt"
   },
   "outputs": [
    {
     "name": "stdout",
     "output_type": "stream",
     "text": [
      "True\n",
      "True\n",
      "True\n"
     ]
    }
   ],
   "source": [
    "def is_balanced(number):\n",
    "    digits_array = get_digits_array(number)\n",
    "    digits_count = len(digits_array)\n",
    "    middle_position = digits_count // 2\n",
    "    if digits_count <= 2:\n",
    "        return False\n",
    "    elif digits_count % 2 == 0:\n",
    "        return sum(digits_array[:middle_position - 1]) == sum(digits_array[middle_position + 1:])\n",
    "    return sum(digits_array[:middle_position]) == sum(digits_array[middle_position + 1:])\n",
    "\n",
    "def get_digits_array(number):\n",
    "    array = []\n",
    "    while number > 0:\n",
    "        array.append(number % 10)\n",
    "        number //= 10\n",
    "    return array\n",
    "\n",
    "def test_task_8(number, required_bool):\n",
    "    return required_bool == is_balanced(number)\n",
    "\n",
    "def test_balanced_even():\n",
    "    return test_task_8(197628, True)\n",
    "\n",
    "def test_balanced_odd():\n",
    "    return test_task_8(128321625, True)\n",
    "\n",
    "def test_unbalanced():\n",
    "    return test_task_8(129981, False)\n",
    "\n",
    "print(test_balanced_even())\n",
    "print(test_balanced_odd())\n",
    "print(test_unbalanced())"
   ]
  }
 ],
 "metadata": {
  "colab": {
   "provenance": []
  },
  "kernelspec": {
   "display_name": "Python 3.10.2 64-bit",
   "language": "python",
   "name": "python3"
  },
  "language_info": {
   "codemirror_mode": {
    "name": "ipython",
    "version": 3
   },
   "file_extension": ".py",
   "mimetype": "text/x-python",
   "name": "python",
   "nbconvert_exporter": "python",
   "pygments_lexer": "ipython3",
   "version": "3.10.2"
  },
  "vscode": {
   "interpreter": {
    "hash": "4b0cb0b304c57fb686ee2ffd417e2fdbd4ef32221607cbba7f91c2936938e212"
   }
  }
 },
 "nbformat": 4,
 "nbformat_minor": 1
}
