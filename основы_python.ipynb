{
 "cells": [
  {
   "cell_type": "markdown",
   "metadata": {
    "id": "M-DGa20PaHnu"
   },
   "source": [
    "#Задача 1\n",
    "Написать функцию на вход которой подается строка, состоящая из латинских букв.\n",
    "Функция должна вернуть количество гласных букв (a, e, i, o, u) в этой строке. Написать тесты для кода"
   ]
  },
  {
   "cell_type": "code",
   "execution_count": 20,
   "metadata": {
    "id": "XvX8X_JJ6PCb"
   },
   "outputs": [
    {
     "name": "stdout",
     "output_type": "stream",
     "text": [
      "True\n",
      "True\n",
      "True\n",
      "True\n",
      "True\n"
     ]
    }
   ],
   "source": [
    "def get_vowels_count(string):\n",
    "    vowels = ['a', 'e', 'i', 'o', 'u']\n",
    "    vowels_count = 0\n",
    "    if isinstance(string, str):\n",
    "        string = string.lower()\n",
    "        for symbol in string:\n",
    "            vowels_count += symbol in vowels\n",
    "    return vowels_count\n",
    "\n",
    "def test(object, required_count):\n",
    "    vowels_count = get_vowels_count(object)\n",
    "    return vowels_count == required_count\n",
    "\n",
    "def test_no_vowels():\n",
    "    return test('bcdfg', 0)\n",
    "\n",
    "def test_all_vowels():\n",
    "    return test('aeiou', 5)\n",
    "\n",
    "def test_vowels_exists():\n",
    "    return test('abcdef', 2)\n",
    "\n",
    "def test_not_string():\n",
    "    return test(12345, 0)\n",
    "\n",
    "def test_capitalized_string():\n",
    "    return test('AEIOU', 5)\n",
    "\n",
    "print(test_no_vowels())\n",
    "print(test_all_vowels())\n",
    "print(test_vowels_exists())\n",
    "print(test_not_string())\n",
    "print(test_capitalized_string())"
   ]
  },
  {
   "cell_type": "markdown",
   "metadata": {
    "id": "t2ClV_Y0bbr6"
   },
   "source": [
    "# Задача 2\n",
    "Написать функцию на вход, которой подается строка. Функция должна вернуть true, если\n",
    "каждый символ в строке встречается только 1 раз, иначе должна вернуть false. Написать тесты для кода"
   ]
  },
  {
   "cell_type": "code",
   "execution_count": 23,
   "metadata": {
    "id": "FppbECao6VIz"
   },
   "outputs": [
    {
     "name": "stdout",
     "output_type": "stream",
     "text": [
      "True\n",
      "True\n",
      "True\n"
     ]
    }
   ],
   "source": [
    "def is_every_symbol_single(string):\n",
    "    if not isinstance(string, str):\n",
    "        return False\n",
    "    symbols_in_string = {}\n",
    "    for symbol in string:\n",
    "        if symbol in symbols_in_string:\n",
    "            return False\n",
    "        symbols_in_string[symbol] = 1\n",
    "    return True\n",
    "\n",
    "def test(object, required_bool):\n",
    "    return required_bool == is_every_symbol_single(object)\n",
    "\n",
    "def test_not_string_2():\n",
    "    return test(12345, False)\n",
    "\n",
    "def test_every_symbol_is_single():\n",
    "    return test('abcdef', True)\n",
    "\n",
    "def test_some_symbols_arent_single():\n",
    "    return test('aaaaaabbb', False)\n",
    "\n",
    "print(test_not_string_2())\n",
    "print(test_every_symbol_is_single())\n",
    "print(test_some_symbols_arent_single())"
   ]
  },
  {
   "cell_type": "markdown",
   "metadata": {
    "id": "udRiIK1cdt6E"
   },
   "source": [
    "# Задача 3\n",
    "Написать функцию, которая принимает положительное число и возвращает количество\n",
    "бит равных 1 в этом числе. Написать тесты для кода"
   ]
  },
  {
   "cell_type": "code",
   "execution_count": 31,
   "metadata": {
    "id": "6tkfDJRz6dp_"
   },
   "outputs": [
    {
     "name": "stdout",
     "output_type": "stream",
     "text": [
      "True\n",
      "True\n",
      "True\n"
     ]
    }
   ],
   "source": [
    "def get_bits_count(number):\n",
    "    bits_count = 0\n",
    "    binary_number_as_string = bin(number)[1:]\n",
    "    for symbol in binary_number_as_string:\n",
    "        bits_count += symbol == '1'\n",
    "    return bits_count\n",
    "\n",
    "def test_task_3(object, required_count):\n",
    "    return required_count == get_bits_count(object)\n",
    "\n",
    "def test_55():\n",
    "    return test_task_3(55, 5)\n",
    "\n",
    "def test_0():\n",
    "    return test_task_3(0, 0)\n",
    "\n",
    "def test_1823():\n",
    "    return test_task_3(1823, 8)\n",
    "\n",
    "print(test_55())\n",
    "print(test_0())\n",
    "print(test_1823())"
   ]
  },
  {
   "cell_type": "markdown",
   "metadata": {
    "id": "26dDUz-Ae17N"
   },
   "source": [
    "# Задача 4\n",
    "Написать функцию, которая принимает положительное число. Функция должна вернуть то,\n",
    "сколько раз необходимо перемножать цифры числа или результат перемножения, чтобы\n",
    "получилось число состоящее из одной цифры.\n",
    "Например, для входного числа:\n",
    "· 39 функция должна вернуть 3, так как 3*9=27 => 2*7=14 => 1*4=4\n",
    "· 4 функция должна вернуть 0, так как число уже состоит из одной цифры\n",
    "· 999 функция должна вернуть 4, так как 9*9*9=729 => 7*2*9=126 => 1*2*6=12 =>\n",
    "1*2=2. Написать тесты для кода"
   ]
  },
  {
   "cell_type": "code",
   "execution_count": null,
   "metadata": {
    "id": "BH1A_Mgi6i4G"
   },
   "outputs": [],
   "source": [
    "def magic(n):\n",
    "    # Your code goes here\n",
    "    pass"
   ]
  },
  {
   "cell_type": "markdown",
   "metadata": {
    "id": "0nS-kIa8g8vd"
   },
   "source": [
    "# Задача 5\n",
    "Написать функцию, которая принимает два целочисленных вектора одинаковой длины и\n",
    "возвращает среднеквадратическое отклонение двух векторов. Написать тесты для кода"
   ]
  },
  {
   "cell_type": "code",
   "execution_count": null,
   "metadata": {
    "id": "8iphx4LM6xbx"
   },
   "outputs": [],
   "source": [
    "def mse(pred, true):\n",
    "    # Your code goes here\n",
    "    pass"
   ]
  },
  {
   "cell_type": "markdown",
   "metadata": {
    "id": "vpIPKL439zkw"
   },
   "source": [
    "# Задача 6\n",
    "Написать функцию, принимающая целое положительное число. Функция должна вернуть\n",
    "строку вида “(n1**p1)(n2**p2)…(nk**pk)” представляющая разложение числа на простые\n",
    "множители (если pi == 1, то выводить только ni).\n",
    "Например, для числа 86240 функция должна вернуть “(2**5)(5)(7**2)(11)”. Написать тесты для кода"
   ]
  },
  {
   "cell_type": "code",
   "execution_count": null,
   "metadata": {
    "id": "pFebmcZk94Jw"
   },
   "outputs": [],
   "source": [
    "# Your code goes here"
   ]
  },
  {
   "cell_type": "markdown",
   "metadata": {
    "id": "ps2s0BudX7A2"
   },
   "source": [
    "# Задача 7\n",
    "Написать функцию, принимающая целое число n, задающее количество кубиков. Функция\n",
    "должна определить, можно ли из данного кол-ва кубиков построить пирамиду, то есть\n",
    "можно ли представить число n как 1^2+2^2+3^2+…+k^2. Если можно, то функция должна\n",
    "вернуть k, иначе строку “It is impossible”. Написать тесты для кода"
   ]
  },
  {
   "cell_type": "code",
   "execution_count": null,
   "metadata": {
    "id": "3YPjEXxhX_YT"
   },
   "outputs": [],
   "source": [
    "def pyramid(number):\n",
    "    # Your code goes here\n",
    "    pass"
   ]
  },
  {
   "cell_type": "markdown",
   "metadata": {
    "id": "KeKgmIdAQMEJ"
   },
   "source": [
    "# Задача 8\n",
    "Функция принимает на вход положительное число и определяет является ли оно сбалансированным, т.е. сумма цифр до средних равна сумме цифр после. Средними в случае нечетного числа цифр считать одну цифру, в случае четного - две средних. Написать тесты для кода"
   ]
  },
  {
   "cell_type": "code",
   "execution_count": null,
   "metadata": {
    "id": "gMAAqtqlQrZt"
   },
   "outputs": [],
   "source": [
    "# Your code goes here"
   ]
  }
 ],
 "metadata": {
  "colab": {
   "provenance": []
  },
  "kernelspec": {
   "display_name": "Python 3 (ipykernel)",
   "language": "python",
   "name": "python3"
  },
  "language_info": {
   "codemirror_mode": {
    "name": "ipython",
    "version": 3
   },
   "file_extension": ".py",
   "mimetype": "text/x-python",
   "name": "python",
   "nbconvert_exporter": "python",
   "pygments_lexer": "ipython3",
   "version": "3.9.13"
  }
 },
 "nbformat": 4,
 "nbformat_minor": 1
}
